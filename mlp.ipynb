{
 "cells": [
  {
   "cell_type": "code",
   "execution_count": 52,
   "metadata": {},
   "outputs": [],
   "source": [
    "import pandas as pd\n",
    "import numpy as np\n",
    "from sklearn.neural_network import MLPClassifier\n",
    "from sklearn.model_selection import train_test_split\n",
    "from sklearn.preprocessing import StandardScaler\n",
    "from collections import Counter"
   ]
  },
  {
   "cell_type": "code",
   "execution_count": 41,
   "metadata": {},
   "outputs": [],
   "source": [
    "df = pd.read_csv('data.csv')"
   ]
  },
  {
   "cell_type": "code",
   "execution_count": 42,
   "metadata": {},
   "outputs": [],
   "source": [
    "clf = MLPClassifier()"
   ]
  },
  {
   "cell_type": "code",
   "execution_count": 43,
   "metadata": {},
   "outputs": [],
   "source": [
    "ss = StandardScaler()"
   ]
  },
  {
   "cell_type": "code",
   "execution_count": 44,
   "metadata": {},
   "outputs": [
    {
     "data": {
      "text/plain": [
       "StandardScaler()"
      ]
     },
     "execution_count": 44,
     "metadata": {},
     "output_type": "execute_result"
    }
   ],
   "source": [
    "ss.fit(X)"
   ]
  },
  {
   "cell_type": "code",
   "execution_count": 45,
   "metadata": {},
   "outputs": [],
   "source": [
    "X = ss.transform(X)"
   ]
  },
  {
   "cell_type": "code",
   "execution_count": 46,
   "metadata": {},
   "outputs": [],
   "source": [
    "X = df.iloc[:, 2:]\n",
    "y = df.iloc[:, 1]"
   ]
  },
  {
   "cell_type": "code",
   "execution_count": 47,
   "metadata": {},
   "outputs": [],
   "source": [
    "X_train, X_test, y_train, y_test = train_test_split(X, y, train_size = 0.8, random_state=42)"
   ]
  },
  {
   "cell_type": "code",
   "execution_count": 48,
   "metadata": {},
   "outputs": [
    {
     "data": {
      "text/plain": [
       "MLPClassifier()"
      ]
     },
     "execution_count": 48,
     "metadata": {},
     "output_type": "execute_result"
    }
   ],
   "source": [
    "clf.fit(X_train, y_train)"
   ]
  },
  {
   "cell_type": "code",
   "execution_count": 49,
   "metadata": {},
   "outputs": [],
   "source": [
    "y_pred = clf.predict(X_test)"
   ]
  },
  {
   "cell_type": "code",
   "execution_count": 68,
   "metadata": {},
   "outputs": [
    {
     "name": "stdout",
     "output_type": "stream",
     "text": [
      "93.86\n"
     ]
    }
   ],
   "source": [
    "print('%.2f' % (sum(y_pred == y_test) / len(y_pred) * 100))"
   ]
  },
  {
   "cell_type": "code",
   "execution_count": null,
   "metadata": {},
   "outputs": [],
   "source": [
    "def mlp():\n",
    "\n",
    "\tdef __init__(self, X, y):\n",
    "\t\tself.X_ = self.scale_(X)\n",
    "\t\tself.X_ = self.ft_intercept_(self.X_)\n",
    "\t\tself.y_ = np.multiply(y == 'M', 1)\n",
    "\t\tself.W1_ = np.zeros((X.shape[1], 256))\n",
    "\t\tself.W2_ = np.zeros((self.W1_.shape[1] + 1, 128))\n",
    "\t\tself.W3_ = np.zeros((self.W2_.shape + 1, 1))\n",
    "\n",
    "\tdef scale_(self, X):\n",
    "\t\tself.means_ = []\n",
    "\t\tself.std_ = []\n",
    "\t\tfor i in range(X.shape[1]):\n",
    "\t\t\tself.means_.append(np.mean(X.iloc[:, i]))\n",
    "\t\t\tself.std_.append(np.std(X.iloc[:, i]))\n",
    "\t\t\tX.iloc[:, i] = (X.iloc[:, i] - np.mean(X.iloc[:, i])) / np.std(X.iloc[:, i])\n",
    "\t\treturn X\n",
    "\n",
    "\tdef fit_intercept_(self, X):\n",
    "\t\treturn np.hstack((np.ones((X.shape[0], 1)), X))\n",
    "\t\n",
    "\tdef fit(self, lr=0.1, epochs=1000):\n",
    "\t\tself.loss_ = []\n",
    "\t\tfor i in range(epochs):\n",
    "\t\t\tZ1 = np.dot(self.X_, self.W1_)\n",
    "\t\t\tH1 = self.softmax_(Z1)\n",
    "\t\t\t\n",
    "\t\n",
    "\tdef softmax_(self, z):\n",
    "\t\treturn np.exp(z) / np.sum(np.exp(z), axis=1).reshape(-1, 1)"
   ]
  }
 ],
 "metadata": {
  "kernelspec": {
   "display_name": "base",
   "language": "python",
   "name": "python3"
  },
  "language_info": {
   "codemirror_mode": {
    "name": "ipython",
    "version": 3
   },
   "file_extension": ".py",
   "mimetype": "text/x-python",
   "name": "python",
   "nbconvert_exporter": "python",
   "pygments_lexer": "ipython3",
   "version": "3.9.5"
  },
  "orig_nbformat": 4
 },
 "nbformat": 4,
 "nbformat_minor": 2
}
